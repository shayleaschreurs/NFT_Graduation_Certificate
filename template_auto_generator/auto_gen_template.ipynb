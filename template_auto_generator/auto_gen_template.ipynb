{
 "cells": [
  {
   "cell_type": "code",
   "execution_count": 1,
   "id": "23bfcec0-eca7-4e55-ba94-11afbaefe1e3",
   "metadata": {},
   "outputs": [
    {
     "name": "stdout",
     "output_type": "stream",
     "text": [
      "Requirement already satisfied: pillow in /Users/shayleaschreurs/opt/anaconda3/envs/dev/lib/python3.7/site-packages (9.0.1)\n",
      "Note: you may need to restart the kernel to use updated packages.\n"
     ]
    }
   ],
   "source": [
    "#install pillow for easy shortcuts for images and fonts\n",
    "pip install pillow"
   ]
  },
  {
   "cell_type": "code",
   "execution_count": 2,
   "id": "1deac525-efa3-4d30-9a5e-8c5aef3317e3",
   "metadata": {},
   "outputs": [],
   "source": [
    "#import pandas and PIL classes\n",
    "import pandas as pd\n",
    "from PIL import Image, ImageDraw, ImageFont"
   ]
  },
  {
   "cell_type": "code",
   "execution_count": 3,
   "id": "3a89873d-3282-465a-918a-fe482a97b78b",
   "metadata": {},
   "outputs": [],
   "source": [
    "#create a dataframe with name_df.csv\n",
    "df = pd.read_csv('name_df.csv')\n",
    "df"
   ]
  },
  {
   "cell_type": "code",
   "execution_count": 5,
   "id": "150f9c5b-d24f-433c-9d0e-07b5e7bb7842",
   "metadata": {},
   "outputs": [
    {
     "name": "stderr",
     "output_type": "stream",
     "text": [
      "/Users/shayleaschreurs/opt/anaconda3/envs/dev/lib/python3.7/site-packages/ipykernel_launcher.py:1: FutureWarning: Using short name for 'orient' is deprecated. Only the options: ('dict', list, 'series', 'split', 'records', 'index') will be used in a future version. Use one of the above to silence this warning.\n",
      "  \"\"\"Entry point for launching an IPython kernel.\n"
     ]
    },
    {
     "data": {
      "text/plain": [
       "[{'Id': 1, 'Name': 'Dog Yorkshire'},\n",
       " {'Id': 2, 'Name': 'Cat Tabby'},\n",
       " {'Id': 3, 'Name': 'Sloth Speedy'}]"
      ]
     },
     "execution_count": 5,
     "metadata": {},
     "output_type": "execute_result"
    }
   ],
   "source": [
    "#create a variable 'records' of the df as a dictionary\n",
    "records = df.to_dict(orient='record')\n",
    "records"
   ]
  },
  {
   "cell_type": "code",
   "execution_count": 6,
   "id": "63d61161-548c-4615-b4ba-cc97b589b7bb",
   "metadata": {},
   "outputs": [],
   "source": [
    "#download a font from google fonts and save it into the 'template_auto_generate' folder\n",
    "#create a variable font, using ImageFont.truetype(), to imput the font of your choice and pick the size that works for you\n",
    "font = ImageFont.truetype('Open_Sans/OpenSans-Italic-VariableFont_wdth,wght.ttf', size=30)"
   ]
  },
  {
   "cell_type": "code",
   "execution_count": 7,
   "id": "964a7a49-de09-4328-a3f2-57e734c9ab9d",
   "metadata": {},
   "outputs": [],
   "source": [
    "# create a def 'generate_card(data)' with the following variables:\n",
    "#template equal to your certificate png, use Image.open\n",
    "#pic equal to photo that corresponds to the Id number in the data frame. format f\"photo/{data['Id']}.png, resize to fit the frame on the certificate template, use Image.ANTIALIAS to help reduce photo warping.\n",
    "#paste the photo into the correct area. to do this use a photo editing app to find the 4 pixels in each corner of the photo frame of the template, make sure the size of the previous step matches up to this step.\n",
    "#draw the text into the correct area on the template using the top right corner of pixel area. adjust the font size of the 'font' variable above if it doesn't fit correctly. use data.['Name'] so the for loop in the next step can auto populate the names for each certficate\n",
    "#return template\n",
    "def generate_card(data): \n",
    "    template = Image.open('certificate-template.png')\n",
    "    pic = Image.open(f\"photo/{data['Id']}.png\").resize((170,170), Image.ANTIALIAS)\n",
    "    template.paste(pic, (311, 452, 481, 622))\n",
    "    draw = ImageDraw.Draw(template)\n",
    "    draw.text((505, 505), data['Name'], font=font, fill='black')\n",
    "    return template"
   ]
  },
  {
   "cell_type": "code",
   "execution_count": 8,
   "id": "39117679-38d6-45a1-afa1-6eee1daa3a36",
   "metadata": {},
   "outputs": [],
   "source": [
    "# create a for loop to generate and save all the certificates with the correct photo and names, simultaneously \n",
    "for record in records:\n",
    "    card = generate_card(record)\n",
    "    card.save(f\"certificates/{record['Id']}.png\")\n",
    "    "
   ]
  }
 ],
 "metadata": {
  "kernelspec": {
   "display_name": "Python 3 (ipykernel)",
   "language": "python",
   "name": "python3"
  },
  "language_info": {
   "codemirror_mode": {
    "name": "ipython",
    "version": 3
   },
   "file_extension": ".py",
   "mimetype": "text/x-python",
   "name": "python",
   "nbconvert_exporter": "python",
   "pygments_lexer": "ipython3",
   "version": "3.7.13"
  }
 },
 "nbformat": 4,
 "nbformat_minor": 5
}
